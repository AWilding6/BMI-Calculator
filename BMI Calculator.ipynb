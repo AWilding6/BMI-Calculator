{
 "cells": [
  {
   "cell_type": "code",
   "execution_count": 1,
   "id": "fb27807f",
   "metadata": {},
   "outputs": [
    {
     "name": "stdout",
     "output_type": "stream",
     "text": [
      "Enter your name: Andrew\n",
      "Enter your weight in pounds: 175\n",
      "Enter your height in inches: 69\n",
      "Andrew, you are overweight. Your BMI is 25.84015963032976\n"
     ]
    }
   ],
   "source": [
    "# Use input to enter your name, weight and height\n",
    "name = input(\"Enter your name: \")\n",
    "\n",
    "# Converting the input to int so the calculations can be done below\n",
    "weight = int(input(\"Enter your weight in pounds: \"))\n",
    "height = int(input(\"Enter your height in inches: \"))\n",
    "\n",
    "# Calculate BMI using inputs\n",
    "BMI = (weight * 703) / (height * height)\n",
    "\n",
    "# Use an if statement to return a string based on your BMI\n",
    "if BMI > 0:\n",
    "    if(BMI <= 18.5):\n",
    "        print(name + \", you are underweight.\", \"Your BMI is\", BMI)\n",
    "    elif(BMI <= 24.9):\n",
    "        print(name + \", you are normal weight.\", \"Your BMI is\", BMI)\n",
    "    elif(BMI <= 29.9):\n",
    "        print(name + \", you are overweight.\", \"Your BMI is\", BMI)\n",
    "    elif(BMI > 30):\n",
    "        print(name + \", you are obese.\", \"Your BMI is\", BMI)    \n",
    "    else:\n",
    "        print(\"Enter valid inputs\")"
   ]
  },
  {
   "cell_type": "code",
   "execution_count": null,
   "id": "9a926774",
   "metadata": {},
   "outputs": [],
   "source": []
  }
 ],
 "metadata": {
  "kernelspec": {
   "display_name": "Python 3 (ipykernel)",
   "language": "python",
   "name": "python3"
  },
  "language_info": {
   "codemirror_mode": {
    "name": "ipython",
    "version": 3
   },
   "file_extension": ".py",
   "mimetype": "text/x-python",
   "name": "python",
   "nbconvert_exporter": "python",
   "pygments_lexer": "ipython3",
   "version": "3.10.9"
  }
 },
 "nbformat": 4,
 "nbformat_minor": 5
}
